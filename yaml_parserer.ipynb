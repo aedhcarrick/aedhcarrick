{
  "nbformat": 4,
  "nbformat_minor": 0,
  "metadata": {
    "colab": {
      "private_outputs": true,
      "provenance": [],
      "collapsed_sections": [],
      "authorship_tag": "ABX9TyM1Klf5kFnlBf7G+eN9n+m/",
      "include_colab_link": true
    },
    "kernelspec": {
      "name": "python3",
      "display_name": "Python 3"
    },
    "language_info": {
      "name": "python"
    }
  },
  "cells": [
    {
      "cell_type": "markdown",
      "metadata": {
        "id": "view-in-github",
        "colab_type": "text"
      },
      "source": [
        "<a href=\"https://colab.research.google.com/github/aedhcarrick/aedhcarrick/blob/main/yaml_parserer.ipynb\" target=\"_parent\"><img src=\"https://colab.research.google.com/assets/colab-badge.svg\" alt=\"Open In Colab\"/></a>"
      ]
    },
    {
      "cell_type": "code",
      "source": [
        "!git clone https://github.com/Sygil-Dev/sygil-webui.git\n",
        "%cd /content/sygil-webui/\n",
        "!git checkout dev\n",
        "!git pull"
      ],
      "metadata": {
        "id": "Su-wnqGG0Hjw"
      },
      "execution_count": null,
      "outputs": []
    },
    {
      "cell_type": "code",
      "source": [
        "!python -m pip install huggingface_hub\n",
        "!git config --global credential.helper store\n",
        "!huggingface-cli login"
      ],
      "metadata": {
        "id": "cXcTgD3wrV8D"
      },
      "execution_count": null,
      "outputs": []
    },
    {
      "cell_type": "code",
      "execution_count": null,
      "metadata": {
        "id": "L1XO_KBjxcA4"
      },
      "outputs": [],
      "source": [
        "STABLE_DIFFUSION = True #@param {type:\"boolean\"}\n",
        "GFPGAN = False #@param {type:\"boolean\"}\n",
        "REALESRGAN = False #@param {type:\"boolean\"}\n",
        "LDSR = False #@param {type:\"boolean\"}\n",
        "\n",
        "model_list = {\n",
        " 'stable_diffusion': f'{STABLE_DIFFUSION}',\n",
        " 'gfpgan': f'{GFPGAN}',\n",
        " 'realesrgan': f'{REALESRGAN}',\n",
        " 'ldsr': f'{LDSR}'}\n",
        "\n",
        "download_list = {k for (k,v) in model_list.items() if v == 'True'}\n",
        "\n",
        "import os, yaml\n",
        "from pprint import pprint\n",
        "\n",
        "with open('configs/webui/webui_streamlit.yaml') as f:\n",
        "    dataMap = yaml.safe_load(f)\n",
        "\n",
        "models = dataMap['model_manager']['models']\n",
        "#pprint(models)\n",
        "for model in download_list:\n",
        "    path = models[model]['save_location']\n",
        "    name = \"\"\n",
        "    for m in models[model]['files']:\n",
        "        fname = models[model]['files'][m]\n",
        "        link = fname['download_link']\n",
        "        for w in fname['file_name']:\n",
        "          name = name + w\n",
        "        full_path = os.path.join(path,name)\n",
        "        os.makedirs(path, exist_ok=True)\n",
        "        print(name)\n",
        "        print(link)\n",
        "#        !wget -O {full_path} '{link}'\n"
      ]
    }
  ]
}